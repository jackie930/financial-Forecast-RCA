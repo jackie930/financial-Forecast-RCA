{
 "cells": [
  {
   "cell_type": "code",
   "execution_count": 1,
   "id": "67f3b3b9",
   "metadata": {},
   "outputs": [
    {
     "name": "stdout",
     "output_type": "stream",
     "text": [
      "2.108.0\n"
     ]
    }
   ],
   "source": [
    "import os\n",
    "import sagemaker\n",
    "print(sagemaker.__version__)\n",
    "\n",
    "from sagemaker.pytorch import PyTorch\n",
    "from sagemaker.pytorch.model import PyTorchModel\n",
    "import time\n",
    "sagemaker_session = sagemaker.Session()\n",
    "\n",
    "bucket = sagemaker_session.default_bucket()\n",
    "prefix = 'sagemaker/st'\n",
    "\n",
    "role = sagemaker.get_execution_role()"
   ]
  },
  {
   "cell_type": "code",
   "execution_count": 7,
   "id": "a445b7f2",
   "metadata": {},
   "outputs": [
    {
     "name": "stdout",
     "output_type": "stream",
     "text": [
      "code/\n",
      "code/.ipynb_checkpoints/\n",
      "code/.ipynb_checkpoints/requirements-checkpoint.txt\n",
      "code/.ipynb_checkpoints/inference-checkpoint.py\n",
      "code/requirements.txt\n",
      "code/inference-cn.py\n",
      "code/inference.py\n",
      "upload: ./keybert-pytorch.tar.gz to s3://lhr-data/keybert-pytorch.tar.gz\n"
     ]
    }
   ],
   "source": [
    "!rm -rf keybert-pytorch.tar.gz\n",
    "# !cp pretrained_model/mae_pretrain_vit_base.pth model/checkpoint-best.pth\n",
    "!cd model && tar -czvf ../keybert-pytorch.tar.gz *\n",
    "\n",
    "!aws s3 cp keybert-pytorch.tar.gz s3://lhr-data/keybert-pytorch.tar.gz"
   ]
  },
  {
   "cell_type": "code",
   "execution_count": 8,
   "id": "e003967c",
   "metadata": {},
   "outputs": [
    {
     "name": "stdout",
     "output_type": "stream",
     "text": [
      "-----------!"
     ]
    }
   ],
   "source": [
    "# instance_type = 'local'\n",
    "instance_type = 'ml.g4dn.xlarge'\n",
    "\n",
    "# predictor = estimator.deploy(initial_instance_count=1, instance_type=instance_type)\n",
    "endpoint_name=\"keybert-\" + time.strftime(\"%Y-%m-%d-%H-%M-%S\", time.gmtime())\n",
    "pytorch_model = PyTorchModel(model_data='s3://lhr-data/keybert-pytorch.tar.gz', role=role,\n",
    "                             entry_point='inference.py', framework_version='1.7.1', py_version='py36', model_server_workers=1)  # TODO set model_server_workers=1 to avoid torchhub bug\n",
    "predictor = pytorch_model.deploy(instance_type=instance_type, initial_instance_count=1, endpoint_name=endpoint_name)"
   ]
  },
  {
   "cell_type": "code",
   "execution_count": 9,
   "id": "a067863c",
   "metadata": {},
   "outputs": [
    {
     "data": {
      "text/plain": [
       "[{'corpus_sentence': 'sagemaker makes machine learning', 'score': 0.8299},\n",
       " {'corpus_sentence': 'amazon sagemaker', 'score': 0.7948},\n",
       " {'corpus_sentence': 'best amazon sagemaker', 'score': 0.7454},\n",
       " {'corpus_sentence': 'best amazon sagemaker makes', 'score': 0.6746},\n",
       " {'corpus_sentence': 'amazon sagemaker makes', 'score': 0.6633},\n",
       " {'corpus_sentence': 'amazon sagemaker makes machine', 'score': 0.6491},\n",
       " {'corpus_sentence': 'sagemaker makes', 'score': 0.6116},\n",
       " {'corpus_sentence': 'sagemaker makes machine', 'score': 0.606},\n",
       " {'corpus_sentence': 'makes machine learning easy', 'score': 0.5396},\n",
       " {'corpus_sentence': 'machine learning easy', 'score': 0.5043}]"
      ]
     },
     "execution_count": 9,
     "metadata": {},
     "output_type": "execute_result"
    }
   ],
   "source": [
    "import sagemaker\n",
    "import json\n",
    "sm = sagemaker.Session().sagemaker_runtime_client\n",
    "\n",
    "prompt = \"The best part of Amazon SageMaker is that it makes machine learning easy.\"\n",
    "\n",
    "response = sm.invoke_endpoint(\n",
    "    EndpointName=endpoint_name, Body=prompt.encode(encoding=\"UTF-8\"), ContentType=\"text/csv\"\n",
    ")\n",
    "\n",
    "result = response[\"Body\"].read().decode()\n",
    "\n",
    "# result = list(map(float, result[1:-1].split()))\n",
    "eval(result)"
   ]
  },
  {
   "cell_type": "code",
   "execution_count": null,
   "id": "30dc9079",
   "metadata": {},
   "outputs": [],
   "source": [
    "predictor.delete_endpoint()"
   ]
  }
 ],
 "metadata": {
  "kernelspec": {
   "display_name": "conda_pytorch_p38",
   "language": "python",
   "name": "conda_pytorch_p38"
  },
  "language_info": {
   "codemirror_mode": {
    "name": "ipython",
    "version": 3
   },
   "file_extension": ".py",
   "mimetype": "text/x-python",
   "name": "python",
   "nbconvert_exporter": "python",
   "pygments_lexer": "ipython3",
   "version": "3.8.12"
  }
 },
 "nbformat": 4,
 "nbformat_minor": 5
}
