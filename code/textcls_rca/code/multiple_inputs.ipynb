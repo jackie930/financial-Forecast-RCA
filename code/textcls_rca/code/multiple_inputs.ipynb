{
 "cells": [
  {
   "cell_type": "markdown",
   "id": "df050ef0",
   "metadata": {},
   "source": [
    "## Reform data for CNN and LSTM models"
   ]
  },
  {
   "cell_type": "code",
   "execution_count": null,
   "id": "b86ce9d6",
   "metadata": {},
   "outputs": [],
   "source": [
    "!pip install sklearn\n",
    "!pip install pandas\n",
    "!pip install numpy"
   ]
  },
  {
   "cell_type": "code",
   "execution_count": 2,
   "id": "5351be97",
   "metadata": {},
   "outputs": [],
   "source": [
    "import pandas as pd\n",
    "from sklearn.model_selection import train_test_split\n",
    "import numpy as np"
   ]
  },
  {
   "cell_type": "code",
   "execution_count": 3,
   "id": "6aa3382d",
   "metadata": {},
   "outputs": [
    {
     "data": {
      "text/plain": [
       "Index(['user_no', 'key_label', 'event', 'event_time', 'post_id', 'news_time',\n",
       "       'title', 'abstract', 'content', 'industry_name_sc', 'concept_name_sc',\n",
       "       'industry', 'concept', 'tags', 'clean_content', 'clean_title',\n",
       "       'clean_abstract'],\n",
       "      dtype='object')"
      ]
     },
     "execution_count": 3,
     "metadata": {},
     "output_type": "execute_result"
    }
   ],
   "source": [
    "input_path = '../data/'\n",
    "df = pd.read_csv(input_path+'clean_df.csv')\n",
    "df.columns"
   ]
  },
  {
   "cell_type": "code",
   "execution_count": 4,
   "id": "0759c9c0",
   "metadata": {},
   "outputs": [],
   "source": [
    "sort_df = df.sort_values(['event_time'],ascending=True).groupby('user_no')"
   ]
  },
  {
   "cell_type": "code",
   "execution_count": 5,
   "id": "decd430a",
   "metadata": {},
   "outputs": [
    {
     "data": {
      "text/html": [
       "<div>\n",
       "<style scoped>\n",
       "    .dataframe tbody tr th:only-of-type {\n",
       "        vertical-align: middle;\n",
       "    }\n",
       "\n",
       "    .dataframe tbody tr th {\n",
       "        vertical-align: top;\n",
       "    }\n",
       "\n",
       "    .dataframe thead th {\n",
       "        text-align: right;\n",
       "    }\n",
       "</style>\n",
       "<table border=\"1\" class=\"dataframe\">\n",
       "  <thead>\n",
       "    <tr style=\"text-align: right;\">\n",
       "      <th></th>\n",
       "      <th>user_no</th>\n",
       "      <th>event_time</th>\n",
       "      <th>key_label</th>\n",
       "      <th>clean_title</th>\n",
       "      <th>clean_abstract</th>\n",
       "      <th>clean_content</th>\n",
       "      <th>tags</th>\n",
       "    </tr>\n",
       "  </thead>\n",
       "  <tbody>\n",
       "    <tr>\n",
       "      <th>0</th>\n",
       "      <td>2321</td>\n",
       "      <td>2022-04-01 14:57:00</td>\n",
       "      <td>0</td>\n",
       "      <td>News highlights  Top global markets news of th...</td>\n",
       "      <td>U S  stocks declined and oil fell as President...</td>\n",
       "      <td>p  strong Dow Falls  Points as U S  Eyes Rese...</td>\n",
       "      <td>巴菲特持仓 富国银行持仓 纽约梅隆银行持仓 瑞士信贷持仓 瑞银集团持仓 热门ETF 红杉资...</td>\n",
       "    </tr>\n",
       "    <tr>\n",
       "      <th>1</th>\n",
       "      <td>2321</td>\n",
       "      <td>2022-04-01 14:57:10</td>\n",
       "      <td>0</td>\n",
       "      <td>News highlights  Top global markets news of th...</td>\n",
       "      <td>OPEC and its allies including Russia agreed to...</td>\n",
       "      <td>p  strong OPEC Sticks to Production Plan Desp...</td>\n",
       "      <td>昨日强势股 热门ETF 巴菲特持仓 富国银行持仓 纽约梅隆银行持仓 瑞士信贷持仓 瑞银集团...</td>\n",
       "    </tr>\n",
       "  </tbody>\n",
       "</table>\n",
       "</div>"
      ],
      "text/plain": [
       "   user_no           event_time  key_label  \\\n",
       "0     2321  2022-04-01 14:57:00          0   \n",
       "1     2321  2022-04-01 14:57:10          0   \n",
       "\n",
       "                                         clean_title  \\\n",
       "0  News highlights  Top global markets news of th...   \n",
       "1  News highlights  Top global markets news of th...   \n",
       "\n",
       "                                      clean_abstract  \\\n",
       "0  U S  stocks declined and oil fell as President...   \n",
       "1  OPEC and its allies including Russia agreed to...   \n",
       "\n",
       "                                       clean_content  \\\n",
       "0   p  strong Dow Falls  Points as U S  Eyes Rese...   \n",
       "1   p  strong OPEC Sticks to Production Plan Desp...   \n",
       "\n",
       "                                                tags  \n",
       "0   巴菲特持仓 富国银行持仓 纽约梅隆银行持仓 瑞士信贷持仓 瑞银集团持仓 热门ETF 红杉资...  \n",
       "1   昨日强势股 热门ETF 巴菲特持仓 富国银行持仓 纽约梅隆银行持仓 瑞士信贷持仓 瑞银集团...  "
      ]
     },
     "execution_count": 5,
     "metadata": {},
     "output_type": "execute_result"
    }
   ],
   "source": [
    "top_df = sort_df.head(3).reset_index()[['user_no', 'event_time', 'key_label', 'clean_title', 'clean_abstract', 'clean_content', 'tags']]\n",
    "top_df.head(2)"
   ]
  },
  {
   "cell_type": "code",
   "execution_count": 6,
   "id": "6df824d0",
   "metadata": {},
   "outputs": [],
   "source": [
    "top_df['input_info'] = top_df['clean_title'] +' '+top_df['clean_abstract']+' ' + top_df['clean_content']"
   ]
  },
  {
   "cell_type": "code",
   "execution_count": 7,
   "id": "cfa495aa",
   "metadata": {},
   "outputs": [
    {
     "data": {
      "text/html": [
       "<div>\n",
       "<style scoped>\n",
       "    .dataframe tbody tr th:only-of-type {\n",
       "        vertical-align: middle;\n",
       "    }\n",
       "\n",
       "    .dataframe tbody tr th {\n",
       "        vertical-align: top;\n",
       "    }\n",
       "\n",
       "    .dataframe thead th {\n",
       "        text-align: right;\n",
       "    }\n",
       "</style>\n",
       "<table border=\"1\" class=\"dataframe\">\n",
       "  <thead>\n",
       "    <tr style=\"text-align: right;\">\n",
       "      <th></th>\n",
       "      <th>user_no</th>\n",
       "      <th>event_time</th>\n",
       "      <th>key_label</th>\n",
       "      <th>clean_title</th>\n",
       "      <th>clean_abstract</th>\n",
       "      <th>clean_content</th>\n",
       "      <th>tags</th>\n",
       "      <th>input_info</th>\n",
       "    </tr>\n",
       "  </thead>\n",
       "  <tbody>\n",
       "    <tr>\n",
       "      <th>0</th>\n",
       "      <td>2321</td>\n",
       "      <td>2022-04-01 14:57:00</td>\n",
       "      <td>0</td>\n",
       "      <td>News highlights  Top global markets news of th...</td>\n",
       "      <td>U S  stocks declined and oil fell as President...</td>\n",
       "      <td>p  strong Dow Falls  Points as U S  Eyes Rese...</td>\n",
       "      <td>巴菲特持仓 富国银行持仓 纽约梅隆银行持仓 瑞士信贷持仓 瑞银集团持仓 热门ETF 红杉资...</td>\n",
       "      <td>News highlights  Top global markets news of th...</td>\n",
       "    </tr>\n",
       "    <tr>\n",
       "      <th>1</th>\n",
       "      <td>2321</td>\n",
       "      <td>2022-04-01 14:57:10</td>\n",
       "      <td>0</td>\n",
       "      <td>News highlights  Top global markets news of th...</td>\n",
       "      <td>OPEC and its allies including Russia agreed to...</td>\n",
       "      <td>p  strong OPEC Sticks to Production Plan Desp...</td>\n",
       "      <td>昨日强势股 热门ETF 巴菲特持仓 富国银行持仓 纽约梅隆银行持仓 瑞士信贷持仓 瑞银集团...</td>\n",
       "      <td>News highlights  Top global markets news of th...</td>\n",
       "    </tr>\n",
       "    <tr>\n",
       "      <th>2</th>\n",
       "      <td>2321</td>\n",
       "      <td>2022-04-01 14:57:16</td>\n",
       "      <td>0</td>\n",
       "      <td>Intel to buy optimization software business Gr...</td>\n",
       "      <td>Intel Corp  said it is buying Israel based dev...</td>\n",
       "      <td>div class  ftEditor   p By Will Feuer  p   di...</td>\n",
       "      <td>半导体 纽文持仓 摩根士丹利持仓 IDC概念 法国巴黎银行持仓 景顺持仓 北方信托银行持仓 ...</td>\n",
       "      <td>Intel to buy optimization software business Gr...</td>\n",
       "    </tr>\n",
       "  </tbody>\n",
       "</table>\n",
       "</div>"
      ],
      "text/plain": [
       "   user_no           event_time  key_label  \\\n",
       "0     2321  2022-04-01 14:57:00          0   \n",
       "1     2321  2022-04-01 14:57:10          0   \n",
       "2     2321  2022-04-01 14:57:16          0   \n",
       "\n",
       "                                         clean_title  \\\n",
       "0  News highlights  Top global markets news of th...   \n",
       "1  News highlights  Top global markets news of th...   \n",
       "2  Intel to buy optimization software business Gr...   \n",
       "\n",
       "                                      clean_abstract  \\\n",
       "0  U S  stocks declined and oil fell as President...   \n",
       "1  OPEC and its allies including Russia agreed to...   \n",
       "2  Intel Corp  said it is buying Israel based dev...   \n",
       "\n",
       "                                       clean_content  \\\n",
       "0   p  strong Dow Falls  Points as U S  Eyes Rese...   \n",
       "1   p  strong OPEC Sticks to Production Plan Desp...   \n",
       "2   div class  ftEditor   p By Will Feuer  p   di...   \n",
       "\n",
       "                                                tags  \\\n",
       "0   巴菲特持仓 富国银行持仓 纽约梅隆银行持仓 瑞士信贷持仓 瑞银集团持仓 热门ETF 红杉资...   \n",
       "1   昨日强势股 热门ETF 巴菲特持仓 富国银行持仓 纽约梅隆银行持仓 瑞士信贷持仓 瑞银集团...   \n",
       "2  半导体 纽文持仓 摩根士丹利持仓 IDC概念 法国巴黎银行持仓 景顺持仓 北方信托银行持仓 ...   \n",
       "\n",
       "                                          input_info  \n",
       "0  News highlights  Top global markets news of th...  \n",
       "1  News highlights  Top global markets news of th...  \n",
       "2  Intel to buy optimization software business Gr...  "
      ]
     },
     "execution_count": 7,
     "metadata": {},
     "output_type": "execute_result"
    }
   ],
   "source": [
    "top_df.head(3)"
   ]
  },
  {
   "cell_type": "code",
   "execution_count": 8,
   "id": "90f3e40a",
   "metadata": {},
   "outputs": [],
   "source": [
    "new_df = pd.DataFrame(columns=['user_no', 'key_label', 'input_1', 'input_2', 'input_3'])"
   ]
  },
  {
   "cell_type": "code",
   "execution_count": 9,
   "id": "3e7fea7b",
   "metadata": {},
   "outputs": [],
   "source": [
    "new_df['user_no'] = top_df['user_no'].unique()"
   ]
  },
  {
   "cell_type": "code",
   "execution_count": 10,
   "id": "79b94d52",
   "metadata": {},
   "outputs": [
    {
     "data": {
      "text/html": [
       "<div>\n",
       "<style scoped>\n",
       "    .dataframe tbody tr th:only-of-type {\n",
       "        vertical-align: middle;\n",
       "    }\n",
       "\n",
       "    .dataframe tbody tr th {\n",
       "        vertical-align: top;\n",
       "    }\n",
       "\n",
       "    .dataframe thead th {\n",
       "        text-align: right;\n",
       "    }\n",
       "</style>\n",
       "<table border=\"1\" class=\"dataframe\">\n",
       "  <thead>\n",
       "    <tr style=\"text-align: right;\">\n",
       "      <th></th>\n",
       "      <th>user_no</th>\n",
       "      <th>key_label</th>\n",
       "      <th>input_1</th>\n",
       "      <th>input_2</th>\n",
       "      <th>input_3</th>\n",
       "    </tr>\n",
       "  </thead>\n",
       "  <tbody>\n",
       "    <tr>\n",
       "      <th>0</th>\n",
       "      <td>2321</td>\n",
       "      <td>NaN</td>\n",
       "      <td>NaN</td>\n",
       "      <td>NaN</td>\n",
       "      <td>NaN</td>\n",
       "    </tr>\n",
       "    <tr>\n",
       "      <th>1</th>\n",
       "      <td>1168</td>\n",
       "      <td>NaN</td>\n",
       "      <td>NaN</td>\n",
       "      <td>NaN</td>\n",
       "      <td>NaN</td>\n",
       "    </tr>\n",
       "    <tr>\n",
       "      <th>2</th>\n",
       "      <td>2130</td>\n",
       "      <td>NaN</td>\n",
       "      <td>NaN</td>\n",
       "      <td>NaN</td>\n",
       "      <td>NaN</td>\n",
       "    </tr>\n",
       "    <tr>\n",
       "      <th>3</th>\n",
       "      <td>1085</td>\n",
       "      <td>NaN</td>\n",
       "      <td>NaN</td>\n",
       "      <td>NaN</td>\n",
       "      <td>NaN</td>\n",
       "    </tr>\n",
       "    <tr>\n",
       "      <th>4</th>\n",
       "      <td>2536</td>\n",
       "      <td>NaN</td>\n",
       "      <td>NaN</td>\n",
       "      <td>NaN</td>\n",
       "      <td>NaN</td>\n",
       "    </tr>\n",
       "  </tbody>\n",
       "</table>\n",
       "</div>"
      ],
      "text/plain": [
       "   user_no key_label input_1 input_2 input_3\n",
       "0     2321       NaN     NaN     NaN     NaN\n",
       "1     1168       NaN     NaN     NaN     NaN\n",
       "2     2130       NaN     NaN     NaN     NaN\n",
       "3     1085       NaN     NaN     NaN     NaN\n",
       "4     2536       NaN     NaN     NaN     NaN"
      ]
     },
     "execution_count": 10,
     "metadata": {},
     "output_type": "execute_result"
    }
   ],
   "source": [
    "new_df.head()"
   ]
  },
  {
   "cell_type": "code",
   "execution_count": 11,
   "id": "29035e58",
   "metadata": {},
   "outputs": [],
   "source": [
    "unique_users = top_df['user_no'].unique()"
   ]
  },
  {
   "cell_type": "code",
   "execution_count": 12,
   "id": "fea120fd",
   "metadata": {},
   "outputs": [],
   "source": [
    "labels = []\n",
    "for u in unique_users:\n",
    "    label = top_df[top_df.user_no==u].key_label.unique()[0]\n",
    "    labels.append(label)"
   ]
  },
  {
   "cell_type": "code",
   "execution_count": 13,
   "id": "ea5276e3",
   "metadata": {},
   "outputs": [],
   "source": [
    "new_df['key_label'] = labels"
   ]
  },
  {
   "cell_type": "code",
   "execution_count": 14,
   "id": "a1d0706c",
   "metadata": {},
   "outputs": [],
   "source": [
    "input_1 = []\n",
    "input_2 = []\n",
    "input_3 = []\n",
    "for u in unique_users:\n",
    "    user_df = top_df[top_df['user_no'] == u][['user_no', 'input_info']]\n",
    "    input_1.append(user_df[user_df['user_no']==u]['input_info'].values[0])\n",
    "    try: \n",
    "        input_2.append(user_df[user_df['user_no']==u]['input_info'].values[1])\n",
    "    except: \n",
    "        input_2.append(' ') # padding\n",
    "    try: \n",
    "        input_3.append(user_df[user_df['user_no']==u]['input_info'].values[2])\n",
    "    except: \n",
    "        input_3.append(' ') # padding"
   ]
  },
  {
   "cell_type": "code",
   "execution_count": 15,
   "id": "f03273c9",
   "metadata": {},
   "outputs": [],
   "source": [
    "new_df['input_1'] = input_1\n",
    "new_df['input_2'] = input_2\n",
    "new_df['input_3'] = input_3"
   ]
  },
  {
   "cell_type": "code",
   "execution_count": 16,
   "id": "42b026d3",
   "metadata": {},
   "outputs": [
    {
     "data": {
      "text/html": [
       "<div>\n",
       "<style scoped>\n",
       "    .dataframe tbody tr th:only-of-type {\n",
       "        vertical-align: middle;\n",
       "    }\n",
       "\n",
       "    .dataframe tbody tr th {\n",
       "        vertical-align: top;\n",
       "    }\n",
       "\n",
       "    .dataframe thead th {\n",
       "        text-align: right;\n",
       "    }\n",
       "</style>\n",
       "<table border=\"1\" class=\"dataframe\">\n",
       "  <thead>\n",
       "    <tr style=\"text-align: right;\">\n",
       "      <th></th>\n",
       "      <th>user_no</th>\n",
       "      <th>key_label</th>\n",
       "      <th>input_1</th>\n",
       "      <th>input_2</th>\n",
       "      <th>input_3</th>\n",
       "    </tr>\n",
       "  </thead>\n",
       "  <tbody>\n",
       "    <tr>\n",
       "      <th>0</th>\n",
       "      <td>2321</td>\n",
       "      <td>0</td>\n",
       "      <td>News highlights  Top global markets news of th...</td>\n",
       "      <td>News highlights  Top global markets news of th...</td>\n",
       "      <td>Intel to buy optimization software business Gr...</td>\n",
       "    </tr>\n",
       "    <tr>\n",
       "      <th>1</th>\n",
       "      <td>1168</td>\n",
       "      <td>0</td>\n",
       "      <td>Shares Of Penny Stock Tonix Pharma Tick Higher...</td>\n",
       "      <td>Tonix Pharmaceuticals to Participate in the No...</td>\n",
       "      <td>Tonix Pharmaceuticals to Participate in the No...</td>\n",
       "    </tr>\n",
       "    <tr>\n",
       "      <th>2</th>\n",
       "      <td>2130</td>\n",
       "      <td>0</td>\n",
       "      <td>Cathie Wood  Michael Saylor and Mayor Suarez s...</td>\n",
       "      <td>Dear PLTR Stock Fans  Mark Your Calendars for ...</td>\n",
       "      <td>Tesla reports earnings Wednesday  Investors sh...</td>\n",
       "    </tr>\n",
       "    <tr>\n",
       "      <th>3</th>\n",
       "      <td>1085</td>\n",
       "      <td>0</td>\n",
       "      <td></td>\n",
       "      <td>Veru shares increasing    Covid  drug candidat...</td>\n",
       "      <td>Veru s Sabizabulin Shows   Reduction in Deaths...</td>\n",
       "    </tr>\n",
       "    <tr>\n",
       "      <th>4</th>\n",
       "      <td>2536</td>\n",
       "      <td>0</td>\n",
       "      <td>Will Amazon Stock Split Offset Union Worries  ...</td>\n",
       "      <td>Saudi Prince Alwaleed bin Talal Rejects Musk s...</td>\n",
       "      <td>Twitter moves to block Elon Musk from increasi...</td>\n",
       "    </tr>\n",
       "  </tbody>\n",
       "</table>\n",
       "</div>"
      ],
      "text/plain": [
       "   user_no  key_label                                            input_1  \\\n",
       "0     2321          0  News highlights  Top global markets news of th...   \n",
       "1     1168          0  Shares Of Penny Stock Tonix Pharma Tick Higher...   \n",
       "2     2130          0  Cathie Wood  Michael Saylor and Mayor Suarez s...   \n",
       "3     1085          0                                                      \n",
       "4     2536          0  Will Amazon Stock Split Offset Union Worries  ...   \n",
       "\n",
       "                                             input_2  \\\n",
       "0  News highlights  Top global markets news of th...   \n",
       "1  Tonix Pharmaceuticals to Participate in the No...   \n",
       "2  Dear PLTR Stock Fans  Mark Your Calendars for ...   \n",
       "3  Veru shares increasing    Covid  drug candidat...   \n",
       "4  Saudi Prince Alwaleed bin Talal Rejects Musk s...   \n",
       "\n",
       "                                             input_3  \n",
       "0  Intel to buy optimization software business Gr...  \n",
       "1  Tonix Pharmaceuticals to Participate in the No...  \n",
       "2  Tesla reports earnings Wednesday  Investors sh...  \n",
       "3  Veru s Sabizabulin Shows   Reduction in Deaths...  \n",
       "4  Twitter moves to block Elon Musk from increasi...  "
      ]
     },
     "execution_count": 16,
     "metadata": {},
     "output_type": "execute_result"
    }
   ],
   "source": [
    "new_df.head()"
   ]
  },
  {
   "cell_type": "code",
   "execution_count": 17,
   "id": "3e83fd1d",
   "metadata": {},
   "outputs": [
    {
     "data": {
      "text/plain": [
       "(4475, 5)"
      ]
     },
     "execution_count": 17,
     "metadata": {},
     "output_type": "execute_result"
    }
   ],
   "source": [
    "new_df.shape"
   ]
  },
  {
   "cell_type": "code",
   "execution_count": 18,
   "id": "346eeaa0",
   "metadata": {},
   "outputs": [],
   "source": [
    "new_df.to_csv(input_path+'user_top_3_data.csv', index=False)"
   ]
  },
  {
   "cell_type": "code",
   "execution_count": null,
   "id": "c6a5ef20",
   "metadata": {},
   "outputs": [],
   "source": []
  },
  {
   "cell_type": "code",
   "execution_count": null,
   "id": "cdaf4168",
   "metadata": {},
   "outputs": [],
   "source": []
  },
  {
   "cell_type": "code",
   "execution_count": null,
   "id": "f3e22bfb",
   "metadata": {},
   "outputs": [],
   "source": []
  },
  {
   "cell_type": "code",
   "execution_count": null,
   "id": "0d773f78",
   "metadata": {},
   "outputs": [],
   "source": []
  },
  {
   "cell_type": "code",
   "execution_count": null,
   "id": "11564314",
   "metadata": {},
   "outputs": [],
   "source": []
  },
  {
   "cell_type": "code",
   "execution_count": null,
   "id": "8e841870",
   "metadata": {},
   "outputs": [],
   "source": []
  }
 ],
 "metadata": {
  "kernelspec": {
   "display_name": "conda_python3",
   "language": "python",
   "name": "conda_python3"
  },
  "language_info": {
   "codemirror_mode": {
    "name": "ipython",
    "version": 3
   },
   "file_extension": ".py",
   "mimetype": "text/x-python",
   "name": "python",
   "nbconvert_exporter": "python",
   "pygments_lexer": "ipython3",
   "version": "3.8.12"
  }
 },
 "nbformat": 4,
 "nbformat_minor": 5
}
