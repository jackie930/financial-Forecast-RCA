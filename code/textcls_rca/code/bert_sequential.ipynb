{
 "cells": [
  {
   "cell_type": "code",
   "execution_count": null,
   "id": "f691e9af",
   "metadata": {},
   "outputs": [],
   "source": [
    "!pip install transformers\n",
    "!pip install torchmetrics"
   ]
  },
  {
   "cell_type": "code",
   "execution_count": null,
   "id": "d2c9072e",
   "metadata": {},
   "outputs": [],
   "source": [
    "import pandas as pd \n",
    "import torch\n",
    "import numpy as np\n",
    "from transformers import BertTokenizer\n",
    "from torch import nn\n",
    "from torchmetrics import AUROC"
   ]
  },
  {
   "cell_type": "code",
   "execution_count": null,
   "id": "98a838d4",
   "metadata": {},
   "outputs": [],
   "source": [
    "from data_utils import *\n",
    "from models import TextClassifierModel_Sequential, Dataset_Sequential, train_model_sequential, evaluate_model_sequential"
   ]
  },
  {
   "cell_type": "markdown",
   "id": "35f263d9",
   "metadata": {},
   "source": [
    "## Prepare Data"
   ]
  },
  {
   "cell_type": "code",
   "execution_count": null,
   "id": "c22264eb",
   "metadata": {},
   "outputs": [],
   "source": [
    "input_path = '../data/'\n",
    "data_name = 'task_output_5313.txt'\n",
    "df = create_sequential_data(input_path, data_name)"
   ]
  },
  {
   "cell_type": "code",
   "execution_count": null,
   "id": "870d433c",
   "metadata": {},
   "outputs": [],
   "source": [
    "df.columns"
   ]
  },
  {
   "cell_type": "code",
   "execution_count": null,
   "id": "93f30059",
   "metadata": {},
   "outputs": [],
   "source": [
    "# df = df[:100]"
   ]
  },
  {
   "cell_type": "code",
   "execution_count": null,
   "id": "b3ba4d8f",
   "metadata": {},
   "outputs": [],
   "source": [
    "length = int(df['input_1'].apply(len).mean())\n",
    "length = np.min([200, length])\n",
    "print('length', length)"
   ]
  },
  {
   "cell_type": "code",
   "execution_count": null,
   "id": "f18a10ce",
   "metadata": {},
   "outputs": [],
   "source": [
    "# split dataset into train, val and test\n",
    "np.random.seed(112)\n",
    "df_train, df_val, df_test = np.split(df.sample(frac=1, random_state=42), \n",
    "                                     [int(.8*len(df)), int(.9*len(df))])\n",
    "df_val = df_val.iloc[:440,:]\n",
    "df_test = df_test.iloc[:440, :]\n",
    "print(len(df_train),len(df_val), len(df_test))"
   ]
  },
  {
   "cell_type": "code",
   "execution_count": null,
   "id": "c6644c19",
   "metadata": {},
   "outputs": [],
   "source": [
    "tokenizer = BertTokenizer.from_pretrained('bert-base-multilingual-cased', do_lower_case = True)"
   ]
  },
  {
   "cell_type": "code",
   "execution_count": null,
   "id": "d16d43c9",
   "metadata": {},
   "outputs": [],
   "source": [
    "#Create pytorch Dataset\n",
    "train_dataset  = Dataset_Sequential(df_train, length, tokenizer)\n",
    "val_dataset = Dataset_Sequential(df_val, length, tokenizer)\n",
    "test_dataset = Dataset_Sequential(df_test, length, tokenizer)"
   ]
  },
  {
   "cell_type": "markdown",
   "id": "29b09988",
   "metadata": {},
   "source": [
    "## Train and evaluate models"
   ]
  },
  {
   "cell_type": "code",
   "execution_count": null,
   "id": "04967624",
   "metadata": {},
   "outputs": [],
   "source": [
    "EPOCHS = 10\n",
    "LR = 1e-5"
   ]
  },
  {
   "cell_type": "markdown",
   "id": "f2c4176f",
   "metadata": {},
   "source": [
    "## BERT+CNN Model"
   ]
  },
  {
   "cell_type": "code",
   "execution_count": null,
   "id": "68f85245",
   "metadata": {},
   "outputs": [],
   "source": [
    "model_cnn = TextClassifierModel_Sequential(model_type='cnn', bert_freeze=False)"
   ]
  },
  {
   "cell_type": "code",
   "execution_count": null,
   "id": "9cbbb841",
   "metadata": {},
   "outputs": [],
   "source": [
    "auroc = AUROC(num_classes=2) # roc-auc"
   ]
  },
  {
   "cell_type": "code",
   "execution_count": null,
   "id": "fae3e2fc",
   "metadata": {},
   "outputs": [],
   "source": [
    "train_model_sequential(model_cnn, train_dataset, val_dataset, auroc, LR, EPOCHS)"
   ]
  },
  {
   "cell_type": "code",
   "execution_count": null,
   "id": "c7cbe15f",
   "metadata": {},
   "outputs": [],
   "source": [
    "auroc = AUROC(num_classes=2) #roc-auc"
   ]
  },
  {
   "cell_type": "code",
   "execution_count": null,
   "id": "cd458786",
   "metadata": {},
   "outputs": [],
   "source": [
    "evaluate_model_sequential(model_cnn, test_dataset, auroc)"
   ]
  },
  {
   "cell_type": "markdown",
   "id": "33cb0135",
   "metadata": {},
   "source": [
    "## BERT+LSTM Model"
   ]
  },
  {
   "cell_type": "code",
   "execution_count": null,
   "id": "4ed967fc",
   "metadata": {},
   "outputs": [],
   "source": [
    "model_lstm = TextClassifierModel_Sequential(model_type='lstm', bert_freeze=False)"
   ]
  },
  {
   "cell_type": "code",
   "execution_count": null,
   "id": "35b24c0e",
   "metadata": {},
   "outputs": [],
   "source": [
    "auroc = AUROC(num_classes=2)"
   ]
  },
  {
   "cell_type": "code",
   "execution_count": null,
   "id": "9e2f2101",
   "metadata": {},
   "outputs": [],
   "source": [
    "train_model_sequential(model_lstm, train_dataset, val_dataset, auroc, LR, EPOCHS)"
   ]
  },
  {
   "cell_type": "code",
   "execution_count": null,
   "id": "b2c9af19",
   "metadata": {},
   "outputs": [],
   "source": [
    "auroc = AUROC(num_classes=2)"
   ]
  },
  {
   "cell_type": "code",
   "execution_count": null,
   "id": "829c67ab",
   "metadata": {},
   "outputs": [],
   "source": [
    "evaluate_model_sequential(model_lstm, test_dataset, auroc)"
   ]
  },
  {
   "cell_type": "code",
   "execution_count": null,
   "id": "5cbbe7f6",
   "metadata": {},
   "outputs": [],
   "source": []
  },
  {
   "cell_type": "code",
   "execution_count": null,
   "id": "6f269955",
   "metadata": {},
   "outputs": [],
   "source": []
  },
  {
   "cell_type": "code",
   "execution_count": null,
   "id": "c7bbdd09",
   "metadata": {},
   "outputs": [],
   "source": []
  }
 ],
 "metadata": {
  "kernelspec": {
   "display_name": "conda_pytorch_p38",
   "language": "python",
   "name": "conda_pytorch_p38"
  },
  "language_info": {
   "codemirror_mode": {
    "name": "ipython",
    "version": 3
   },
   "file_extension": ".py",
   "mimetype": "text/x-python",
   "name": "python",
   "nbconvert_exporter": "python",
   "pygments_lexer": "ipython3",
   "version": "3.8.12"
  }
 },
 "nbformat": 4,
 "nbformat_minor": 5
}
