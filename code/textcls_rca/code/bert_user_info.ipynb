{
 "cells": [
  {
   "cell_type": "markdown",
   "id": "ac34d0ac",
   "metadata": {},
   "source": [
    "## Install Required Libraries"
   ]
  },
  {
   "cell_type": "code",
   "execution_count": null,
   "id": "1ddb8f5b",
   "metadata": {},
   "outputs": [],
   "source": [
    "!pip install transformers\n",
    "!pip install torchmetrics"
   ]
  },
  {
   "cell_type": "markdown",
   "id": "143a36dc",
   "metadata": {},
   "source": [
    "## import libraries"
   ]
  },
  {
   "cell_type": "code",
   "execution_count": null,
   "id": "a3cafdad",
   "metadata": {},
   "outputs": [],
   "source": [
    "import pandas as pd \n",
    "import scipy as sp\n",
    "from torch import nn\n",
    "import torch\n",
    "import numpy as np\n",
    "from transformers import BertTokenizer\n",
    "from torchmetrics import AUROC"
   ]
  },
  {
   "cell_type": "code",
   "execution_count": null,
   "id": "7cfc38f1",
   "metadata": {},
   "outputs": [],
   "source": [
    "from models import TextClassifierModel_User, Dataset_with_user, train_model_user, evaluate_model_user\n",
    "from data_utils import *"
   ]
  },
  {
   "cell_type": "markdown",
   "id": "dd997487",
   "metadata": {},
   "source": [
    "## Load Dataset"
   ]
  },
  {
   "cell_type": "code",
   "execution_count": null,
   "id": "dc21e2e6",
   "metadata": {},
   "outputs": [],
   "source": [
    "input_path = '../data/'\n",
    "data_name = 'task_output_5313.txt'\n",
    "df = clean_data(input_path, data_name)"
   ]
  },
  {
   "cell_type": "code",
   "execution_count": null,
   "id": "83ef5a64",
   "metadata": {},
   "outputs": [],
   "source": [
    "# for each user, keep the most recent 50 records\n",
    "sort_df = df.sort_values(['event_time'], ascending=True).groupby('user_no')\n",
    "df = sort_df.head(50).reset_index()\n",
    "df.shape"
   ]
  },
  {
   "cell_type": "code",
   "execution_count": null,
   "id": "b6f627d8",
   "metadata": {},
   "outputs": [],
   "source": [
    "# df = df[:100]"
   ]
  },
  {
   "cell_type": "markdown",
   "id": "9d0e9609",
   "metadata": {},
   "source": [
    "## Create Pseudo user data"
   ]
  },
  {
   "cell_type": "code",
   "execution_count": null,
   "id": "c9a6b46f",
   "metadata": {},
   "outputs": [],
   "source": [
    "user_num = df['user_no'].max()+1\n",
    "user_emb_dim = 256\n",
    "user_embeddings = generate_pseudo_user_embeddings(user_num, user_emb_dim)\n",
    "print('user_embeddings size: ', user_embeddings.shape)"
   ]
  },
  {
   "cell_type": "markdown",
   "id": "793f4231",
   "metadata": {},
   "source": [
    "## Define the input info"
   ]
  },
  {
   "cell_type": "code",
   "execution_count": null,
   "id": "82509ecf",
   "metadata": {},
   "outputs": [],
   "source": [
    "df['input_info'] = df['clean_title'] + ' ' + df['clean_abstract']\n",
    "df['input_info'].head(2)"
   ]
  },
  {
   "cell_type": "code",
   "execution_count": null,
   "id": "06d0c73c",
   "metadata": {},
   "outputs": [],
   "source": [
    "# split dataset as training, validation and testing dataset\n",
    "np.random.seed(112)\n",
    "df_train, df_val, df_test = np.split(df.sample(frac=1, random_state=42),[int(.8*len(df)), int(.9*len(df))])\n",
    "print(len(df_train),len(df_val), len(df_test))"
   ]
  },
  {
   "cell_type": "code",
   "execution_count": null,
   "id": "57fab2a0",
   "metadata": {},
   "outputs": [],
   "source": [
    "# find the average text length\n",
    "length = int(df['input_info'].apply(len).mean())\n",
    "print('length', length)"
   ]
  },
  {
   "cell_type": "markdown",
   "id": "344786a2",
   "metadata": {},
   "source": [
    "## Import tokenizer and BERT "
   ]
  },
  {
   "cell_type": "code",
   "execution_count": null,
   "id": "c32ec32e",
   "metadata": {},
   "outputs": [],
   "source": [
    "# initialize tokenizer and bert model\n",
    "tokenizer = BertTokenizer.from_pretrained('bert-base-multilingual-cased', do_lower_case = True)"
   ]
  },
  {
   "cell_type": "code",
   "execution_count": null,
   "id": "694d74fc",
   "metadata": {},
   "outputs": [],
   "source": [
    "# construct pytorch Dataset\n",
    "train_dataset, val_dataset, test_dataset = Dataset_with_user(df_train, length, tokenizer), Dataset_with_user(df_val, length, tokenizer), Dataset_with_user(df_test, length, tokenizer)"
   ]
  },
  {
   "cell_type": "code",
   "execution_count": null,
   "id": "bec46010",
   "metadata": {},
   "outputs": [],
   "source": [
    "model = TextClassifierModel_User(user_emb_size=user_emb_dim, bert_freeze=False)"
   ]
  },
  {
   "cell_type": "code",
   "execution_count": null,
   "id": "284290df",
   "metadata": {},
   "outputs": [],
   "source": [
    "auroc = AUROC(num_classes=2)"
   ]
  },
  {
   "cell_type": "code",
   "execution_count": null,
   "id": "3bc268c1",
   "metadata": {},
   "outputs": [],
   "source": [
    "# hyperparameters for training \n",
    "EPOCHS = 10\n",
    "LR = 1e-5\n",
    "BATCH_SIZE = 16"
   ]
  },
  {
   "cell_type": "code",
   "execution_count": null,
   "id": "868ec4f4",
   "metadata": {},
   "outputs": [],
   "source": [
    "# train the text-classifier model\n",
    "train_model_user(model, train_dataset, val_dataset, auroc, user_embeddings, LR, EPOCHS, BATCH_SIZE)"
   ]
  },
  {
   "cell_type": "code",
   "execution_count": null,
   "id": "15ce6462",
   "metadata": {},
   "outputs": [],
   "source": [
    "# evaluate the text-classifier model\n",
    "auroc = AUROC(num_classes=2)\n",
    "\n",
    "evaluate_model_user(model, test_dataset, auroc, user_embeddings, BATCH_SIZE)"
   ]
  },
  {
   "cell_type": "code",
   "execution_count": null,
   "id": "8cdd18ec",
   "metadata": {},
   "outputs": [],
   "source": []
  },
  {
   "cell_type": "code",
   "execution_count": null,
   "id": "c4b36199",
   "metadata": {},
   "outputs": [],
   "source": []
  },
  {
   "cell_type": "code",
   "execution_count": null,
   "id": "14197ab8",
   "metadata": {},
   "outputs": [],
   "source": []
  },
  {
   "cell_type": "code",
   "execution_count": null,
   "id": "ece51003",
   "metadata": {},
   "outputs": [],
   "source": []
  },
  {
   "cell_type": "code",
   "execution_count": null,
   "id": "2196717f",
   "metadata": {},
   "outputs": [],
   "source": []
  },
  {
   "cell_type": "code",
   "execution_count": null,
   "id": "a26964e1",
   "metadata": {},
   "outputs": [],
   "source": []
  },
  {
   "cell_type": "code",
   "execution_count": null,
   "id": "3abddf8e",
   "metadata": {},
   "outputs": [],
   "source": []
  },
  {
   "cell_type": "code",
   "execution_count": null,
   "id": "46c733ae",
   "metadata": {},
   "outputs": [],
   "source": []
  },
  {
   "cell_type": "code",
   "execution_count": null,
   "id": "e20dcea5",
   "metadata": {},
   "outputs": [],
   "source": []
  },
  {
   "cell_type": "code",
   "execution_count": null,
   "id": "301285f4",
   "metadata": {},
   "outputs": [],
   "source": []
  },
  {
   "cell_type": "code",
   "execution_count": null,
   "id": "0b74b816",
   "metadata": {},
   "outputs": [],
   "source": []
  },
  {
   "cell_type": "code",
   "execution_count": null,
   "id": "dfaad549",
   "metadata": {},
   "outputs": [],
   "source": []
  },
  {
   "cell_type": "code",
   "execution_count": null,
   "id": "aa027a9c",
   "metadata": {},
   "outputs": [],
   "source": []
  },
  {
   "cell_type": "code",
   "execution_count": null,
   "id": "f7017300",
   "metadata": {},
   "outputs": [],
   "source": []
  },
  {
   "cell_type": "code",
   "execution_count": null,
   "id": "1cb913c8",
   "metadata": {},
   "outputs": [],
   "source": []
  },
  {
   "cell_type": "code",
   "execution_count": null,
   "id": "09f77050",
   "metadata": {},
   "outputs": [],
   "source": []
  },
  {
   "cell_type": "code",
   "execution_count": null,
   "id": "783e29f3",
   "metadata": {},
   "outputs": [],
   "source": []
  },
  {
   "cell_type": "code",
   "execution_count": null,
   "id": "8adc475c",
   "metadata": {},
   "outputs": [],
   "source": []
  },
  {
   "cell_type": "code",
   "execution_count": null,
   "id": "a92bb9c4",
   "metadata": {},
   "outputs": [],
   "source": []
  },
  {
   "cell_type": "code",
   "execution_count": null,
   "id": "6e97665c",
   "metadata": {},
   "outputs": [],
   "source": []
  },
  {
   "cell_type": "code",
   "execution_count": null,
   "id": "0b8c9912",
   "metadata": {},
   "outputs": [],
   "source": []
  },
  {
   "cell_type": "code",
   "execution_count": null,
   "id": "a73cb444",
   "metadata": {},
   "outputs": [],
   "source": []
  },
  {
   "cell_type": "code",
   "execution_count": null,
   "id": "30e0b840",
   "metadata": {},
   "outputs": [],
   "source": []
  },
  {
   "cell_type": "code",
   "execution_count": null,
   "id": "ea08c8e0",
   "metadata": {},
   "outputs": [],
   "source": []
  },
  {
   "cell_type": "code",
   "execution_count": null,
   "id": "19fdd010",
   "metadata": {},
   "outputs": [],
   "source": []
  },
  {
   "cell_type": "code",
   "execution_count": null,
   "id": "8114c921",
   "metadata": {},
   "outputs": [],
   "source": []
  },
  {
   "cell_type": "code",
   "execution_count": null,
   "id": "0b791975",
   "metadata": {},
   "outputs": [],
   "source": []
  },
  {
   "cell_type": "code",
   "execution_count": null,
   "id": "330a0b4f",
   "metadata": {},
   "outputs": [],
   "source": []
  },
  {
   "cell_type": "code",
   "execution_count": null,
   "id": "963e0185",
   "metadata": {},
   "outputs": [],
   "source": []
  },
  {
   "cell_type": "code",
   "execution_count": null,
   "id": "23992cc1",
   "metadata": {},
   "outputs": [],
   "source": []
  }
 ],
 "metadata": {
  "kernelspec": {
   "display_name": "conda_pytorch_p38",
   "language": "python",
   "name": "conda_pytorch_p38"
  },
  "language_info": {
   "codemirror_mode": {
    "name": "ipython",
    "version": 3
   },
   "file_extension": ".py",
   "mimetype": "text/x-python",
   "name": "python",
   "nbconvert_exporter": "python",
   "pygments_lexer": "ipython3",
   "version": "3.8.12"
  }
 },
 "nbformat": 4,
 "nbformat_minor": 5
}
