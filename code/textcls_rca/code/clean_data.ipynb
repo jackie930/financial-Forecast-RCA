{
 "cells": [
  {
   "cell_type": "code",
   "execution_count": 1,
   "id": "23711fdf",
   "metadata": {},
   "outputs": [
    {
     "name": "stdout",
     "output_type": "stream",
     "text": [
      "Looking in indexes: https://pypi.org/simple, https://pip.repos.neuron.amazonaws.com\n",
      "Requirement already satisfied: sklearn in /home/ec2-user/anaconda3/envs/pytorch_p38/lib/python3.8/site-packages (0.0)\n",
      "Requirement already satisfied: scikit-learn in /home/ec2-user/anaconda3/envs/pytorch_p38/lib/python3.8/site-packages (from sklearn) (1.0.1)\n",
      "Requirement already satisfied: threadpoolctl>=2.0.0 in /home/ec2-user/anaconda3/envs/pytorch_p38/lib/python3.8/site-packages (from scikit-learn->sklearn) (3.0.0)\n",
      "Requirement already satisfied: joblib>=0.11 in /home/ec2-user/anaconda3/envs/pytorch_p38/lib/python3.8/site-packages (from scikit-learn->sklearn) (1.1.0)\n",
      "Requirement already satisfied: numpy>=1.14.6 in /home/ec2-user/anaconda3/envs/pytorch_p38/lib/python3.8/site-packages (from scikit-learn->sklearn) (1.21.2)\n",
      "Requirement already satisfied: scipy>=1.1.0 in /home/ec2-user/anaconda3/envs/pytorch_p38/lib/python3.8/site-packages (from scikit-learn->sklearn) (1.7.2)\n",
      "\u001b[33mWARNING: You are using pip version 22.0.4; however, version 22.3 is available.\n",
      "You should consider upgrading via the '/home/ec2-user/anaconda3/envs/pytorch_p38/bin/python -m pip install --upgrade pip' command.\u001b[0m\u001b[33m\n",
      "\u001b[0mLooking in indexes: https://pypi.org/simple, https://pip.repos.neuron.amazonaws.com\n",
      "Requirement already satisfied: pandas in /home/ec2-user/anaconda3/envs/pytorch_p38/lib/python3.8/site-packages (1.3.4)\n",
      "Requirement already satisfied: python-dateutil>=2.7.3 in /home/ec2-user/anaconda3/envs/pytorch_p38/lib/python3.8/site-packages (from pandas) (2.8.2)\n",
      "Requirement already satisfied: pytz>=2017.3 in /home/ec2-user/anaconda3/envs/pytorch_p38/lib/python3.8/site-packages (from pandas) (2021.3)\n",
      "Requirement already satisfied: numpy>=1.17.3 in /home/ec2-user/anaconda3/envs/pytorch_p38/lib/python3.8/site-packages (from pandas) (1.21.2)\n",
      "Requirement already satisfied: six>=1.5 in /home/ec2-user/anaconda3/envs/pytorch_p38/lib/python3.8/site-packages (from python-dateutil>=2.7.3->pandas) (1.16.0)\n",
      "\u001b[33mWARNING: You are using pip version 22.0.4; however, version 22.3 is available.\n",
      "You should consider upgrading via the '/home/ec2-user/anaconda3/envs/pytorch_p38/bin/python -m pip install --upgrade pip' command.\u001b[0m\u001b[33m\n",
      "\u001b[0mLooking in indexes: https://pypi.org/simple, https://pip.repos.neuron.amazonaws.com\n",
      "Requirement already satisfied: numpy in /home/ec2-user/anaconda3/envs/pytorch_p38/lib/python3.8/site-packages (1.21.2)\n",
      "\u001b[33mWARNING: You are using pip version 22.0.4; however, version 22.3 is available.\n",
      "You should consider upgrading via the '/home/ec2-user/anaconda3/envs/pytorch_p38/bin/python -m pip install --upgrade pip' command.\u001b[0m\u001b[33m\n",
      "\u001b[0m"
     ]
    }
   ],
   "source": [
    "# !pip install contractions\n",
    "!pip install sklearn\n",
    "!pip install pandas\n",
    "!pip install numpy"
   ]
  },
  {
   "cell_type": "code",
   "execution_count": 2,
   "id": "2c1e2f21",
   "metadata": {},
   "outputs": [],
   "source": [
    "import pandas as pd\n",
    "from sklearn.model_selection import train_test_split\n",
    "import numpy as np"
   ]
  },
  {
   "cell_type": "code",
   "execution_count": 3,
   "id": "08ceb529",
   "metadata": {},
   "outputs": [],
   "source": [
    "from data_utlis import *"
   ]
  },
  {
   "cell_type": "code",
   "execution_count": 4,
   "id": "9f7c4e1e",
   "metadata": {},
   "outputs": [
    {
     "data": {
      "text/html": [
       "<div>\n",
       "<style scoped>\n",
       "    .dataframe tbody tr th:only-of-type {\n",
       "        vertical-align: middle;\n",
       "    }\n",
       "\n",
       "    .dataframe tbody tr th {\n",
       "        vertical-align: top;\n",
       "    }\n",
       "\n",
       "    .dataframe thead th {\n",
       "        text-align: right;\n",
       "    }\n",
       "</style>\n",
       "<table border=\"1\" class=\"dataframe\">\n",
       "  <thead>\n",
       "    <tr style=\"text-align: right;\">\n",
       "      <th></th>\n",
       "      <th>user_no</th>\n",
       "      <th>key_label</th>\n",
       "      <th>event</th>\n",
       "      <th>event_time</th>\n",
       "      <th>post_id</th>\n",
       "      <th>news_time</th>\n",
       "      <th>title</th>\n",
       "      <th>abstract</th>\n",
       "      <th>content</th>\n",
       "      <th>industry_name_sc</th>\n",
       "      <th>concept_name_sc</th>\n",
       "    </tr>\n",
       "  </thead>\n",
       "  <tbody>\n",
       "    <tr>\n",
       "      <th>0</th>\n",
       "      <td>929</td>\n",
       "      <td>0</td>\n",
       "      <td>newsView</td>\n",
       "      <td>2022-07-28 23:56:17</td>\n",
       "      <td>13011492</td>\n",
       "      <td>2022-07-28 23:28:38</td>\n",
       "      <td>Market Movers | Solar stocks surge Thursday af...</td>\n",
       "      <td>Solar stocks were surging on Thursday morning ...</td>\n",
       "      <td>&lt;div class=\"ftEditor\"&gt;&lt;p&gt;11:02 AM EDT, 07/28/2...</td>\n",
       "      <td>[\"太阳能\",\"电气设备及零件\"]</td>\n",
       "      <td>[\"法国巴黎银行持仓\",\"昨日强势股\",\"光伏太阳能\",\"氢能源\",\"荷兰全球保险持仓\",\"...</td>\n",
       "    </tr>\n",
       "  </tbody>\n",
       "</table>\n",
       "</div>"
      ],
      "text/plain": [
       "   user_no  key_label     event           event_time   post_id  \\\n",
       "0      929          0  newsView  2022-07-28 23:56:17  13011492   \n",
       "\n",
       "             news_time                                              title  \\\n",
       "0  2022-07-28 23:28:38  Market Movers | Solar stocks surge Thursday af...   \n",
       "\n",
       "                                            abstract  \\\n",
       "0  Solar stocks were surging on Thursday morning ...   \n",
       "\n",
       "                                             content   industry_name_sc  \\\n",
       "0  <div class=\"ftEditor\"><p>11:02 AM EDT, 07/28/2...  [\"太阳能\",\"电气设备及零件\"]   \n",
       "\n",
       "                                     concept_name_sc  \n",
       "0  [\"法国巴黎银行持仓\",\"昨日强势股\",\"光伏太阳能\",\"氢能源\",\"荷兰全球保险持仓\",\"...  "
      ]
     },
     "execution_count": 4,
     "metadata": {},
     "output_type": "execute_result"
    }
   ],
   "source": [
    "input_path = '../data/'\n",
    "df = pd.read_csv(input_path+'task_output_5313.txt', sep=',')\n",
    "df.head(1)"
   ]
  },
  {
   "cell_type": "code",
   "execution_count": 5,
   "id": "d0af0374",
   "metadata": {},
   "outputs": [
    {
     "data": {
      "text/plain": [
       "Index(['user_no', 'key_label', 'event', 'event_time', 'post_id', 'news_time',\n",
       "       'title', 'abstract', 'content', 'industry_name_sc', 'concept_name_sc'],\n",
       "      dtype='object')"
      ]
     },
     "execution_count": 5,
     "metadata": {},
     "output_type": "execute_result"
    }
   ],
   "source": [
    "df.fillna(' ', inplace=True)\n",
    "df.columns"
   ]
  },
  {
   "cell_type": "code",
   "execution_count": 6,
   "id": "b574d4b3",
   "metadata": {},
   "outputs": [],
   "source": [
    "# remove puncautions \n",
    "df['industry'] = df['industry_name_sc'].apply(remove_punctaution)\n",
    "df['concept'] = df['concept_name_sc'].apply(remove_punctaution)"
   ]
  },
  {
   "cell_type": "code",
   "execution_count": 7,
   "id": "c3fd26b8",
   "metadata": {},
   "outputs": [
    {
     "data": {
      "text/plain": [
       "0    太阳能 电气设备及零件 法国巴黎银行持仓 昨日强势股 光伏太阳能 氢能源 荷兰全球保险持仓 ...\n",
       "1    航运及港口 航运港口 一带一路 港口运输股 摘帽 转融券标的 国企改革 BDI指数 证金持股...\n",
       "Name: tags, dtype: object"
      ]
     },
     "execution_count": 7,
     "metadata": {},
     "output_type": "execute_result"
    }
   ],
   "source": [
    "# combine industru y and concept as tags\n",
    "df['tags'] = df['industry'] + ',' + df['concept']\n",
    "df['tags'] = df['tags'].apply(lambda x: x.replace(',', ' '))\n",
    "df['tags'].head(2)"
   ]
  },
  {
   "cell_type": "code",
   "execution_count": 8,
   "id": "43dfd0c5",
   "metadata": {},
   "outputs": [],
   "source": [
    "# remove puncaution\n",
    "df['clean_content'] = df['content'].apply(remove_punc)\n",
    "df['clean_title'] = df['title'].apply(remove_punc)\n",
    "df['clean_abstract'] = df['abstract'].apply(remove_punc)"
   ]
  },
  {
   "cell_type": "code",
   "execution_count": 9,
   "id": "03b74b81",
   "metadata": {},
   "outputs": [],
   "source": [
    "# remove digital\n",
    "df['clean_content'] = df['clean_content'].apply(remove_digital)\n",
    "df['clean_title'] = df['clean_title'].apply(remove_digital)\n",
    "df['clean_abstract'] = df['clean_abstract'].apply(remove_digital)"
   ]
  },
  {
   "cell_type": "code",
   "execution_count": 10,
   "id": "cc9ef9ed",
   "metadata": {},
   "outputs": [],
   "source": [
    "# df['event_time'] =  pd.to_datetime(df['event_time'])\n",
    "# df.sort_values(by='event_time', inplace=True)"
   ]
  },
  {
   "cell_type": "code",
   "execution_count": 11,
   "id": "a4afdc7e",
   "metadata": {},
   "outputs": [],
   "source": [
    "# save clean data\n",
    "df.to_csv(input_path+'clean_df.csv', index=False)"
   ]
  },
  {
   "cell_type": "code",
   "execution_count": 12,
   "id": "9c8982ee",
   "metadata": {},
   "outputs": [
    {
     "data": {
      "text/html": [
       "<div>\n",
       "<style scoped>\n",
       "    .dataframe tbody tr th:only-of-type {\n",
       "        vertical-align: middle;\n",
       "    }\n",
       "\n",
       "    .dataframe tbody tr th {\n",
       "        vertical-align: top;\n",
       "    }\n",
       "\n",
       "    .dataframe thead th {\n",
       "        text-align: right;\n",
       "    }\n",
       "</style>\n",
       "<table border=\"1\" class=\"dataframe\">\n",
       "  <thead>\n",
       "    <tr style=\"text-align: right;\">\n",
       "      <th></th>\n",
       "      <th>key_label</th>\n",
       "      <th>title</th>\n",
       "      <th>abstract</th>\n",
       "      <th>content</th>\n",
       "      <th>industry_name_sc</th>\n",
       "      <th>concept_name_sc</th>\n",
       "    </tr>\n",
       "  </thead>\n",
       "  <tbody>\n",
       "    <tr>\n",
       "      <th>0</th>\n",
       "      <td>0</td>\n",
       "      <td>Market Movers | Solar stocks surge Thursday af...</td>\n",
       "      <td>Solar stocks were surging on Thursday morning ...</td>\n",
       "      <td>&lt;div class=\"ftEditor\"&gt;&lt;p&gt;11:02 AM EDT, 07/28/2...</td>\n",
       "      <td>[\"太阳能\",\"电气设备及零件\"]</td>\n",
       "      <td>[\"法国巴黎银行持仓\",\"昨日强势股\",\"光伏太阳能\",\"氢能源\",\"荷兰全球保险持仓\",\"...</td>\n",
       "    </tr>\n",
       "    <tr>\n",
       "      <th>1</th>\n",
       "      <td>0</td>\n",
       "      <td>COSCO Shipping Parent Lifts Stake in Firm to O...</td>\n",
       "      <td>06:54 AM EDT, 07/22/2022 (MT Newswires) -- COS...</td>\n",
       "      <td>&lt;p&gt;06:54 AM EDT, 07/22/2022 (MT Newswires) -- ...</td>\n",
       "      <td>[\"航运及港口\",\"航运港口\"]</td>\n",
       "      <td>[\"一带一路\",\"港口运输股\",\"摘帽\",\"转融券标的\",\"国企改革\",\"BDI指数\",\"证...</td>\n",
       "    </tr>\n",
       "    <tr>\n",
       "      <th>2</th>\n",
       "      <td>0</td>\n",
       "      <td>Does COSCO SHIPPING Holdings (HKG:1919) Have A...</td>\n",
       "      <td>The external fund manager backed by Berkshire ...</td>\n",
       "      <td>&lt;p&gt;The external fund manager backed by Berkshi...</td>\n",
       "      <td>[\"航运及港口\"]</td>\n",
       "      <td>[\"一带一路\",\"港口运输股\"]</td>\n",
       "    </tr>\n",
       "    <tr>\n",
       "      <th>3</th>\n",
       "      <td>0</td>\n",
       "      <td>Does COSCO SHIPPING Holdings (HKG:1919) Have A...</td>\n",
       "      <td>The external fund manager backed by Berkshire ...</td>\n",
       "      <td>The external fund manager backed by Berkshire ...</td>\n",
       "      <td>[\"航运港口\"]</td>\n",
       "      <td>[\"一带一路\",\"摘帽\",\"转融券标的\",\"国企改革\",\"BDI指数\",\"证金持股\",\"上证...</td>\n",
       "    </tr>\n",
       "  </tbody>\n",
       "</table>\n",
       "</div>"
      ],
      "text/plain": [
       "   key_label                                              title  \\\n",
       "0          0  Market Movers | Solar stocks surge Thursday af...   \n",
       "1          0  COSCO Shipping Parent Lifts Stake in Firm to O...   \n",
       "2          0  Does COSCO SHIPPING Holdings (HKG:1919) Have A...   \n",
       "3          0  Does COSCO SHIPPING Holdings (HKG:1919) Have A...   \n",
       "\n",
       "                                            abstract  \\\n",
       "0  Solar stocks were surging on Thursday morning ...   \n",
       "1  06:54 AM EDT, 07/22/2022 (MT Newswires) -- COS...   \n",
       "2  The external fund manager backed by Berkshire ...   \n",
       "3  The external fund manager backed by Berkshire ...   \n",
       "\n",
       "                                             content   industry_name_sc  \\\n",
       "0  <div class=\"ftEditor\"><p>11:02 AM EDT, 07/28/2...  [\"太阳能\",\"电气设备及零件\"]   \n",
       "1  <p>06:54 AM EDT, 07/22/2022 (MT Newswires) -- ...   [\"航运及港口\",\"航运港口\"]   \n",
       "2  <p>The external fund manager backed by Berkshi...          [\"航运及港口\"]   \n",
       "3  The external fund manager backed by Berkshire ...           [\"航运港口\"]   \n",
       "\n",
       "                                     concept_name_sc  \n",
       "0  [\"法国巴黎银行持仓\",\"昨日强势股\",\"光伏太阳能\",\"氢能源\",\"荷兰全球保险持仓\",\"...  \n",
       "1  [\"一带一路\",\"港口运输股\",\"摘帽\",\"转融券标的\",\"国企改革\",\"BDI指数\",\"证...  \n",
       "2                                   [\"一带一路\",\"港口运输股\"]  \n",
       "3  [\"一带一路\",\"摘帽\",\"转融券标的\",\"国企改革\",\"BDI指数\",\"证金持股\",\"上证...  "
      ]
     },
     "execution_count": 12,
     "metadata": {},
     "output_type": "execute_result"
    }
   ],
   "source": [
    "df[['key_label', 'title', 'abstract', 'content', 'industry_name_sc', 'concept_name_sc']].head(4)"
   ]
  },
  {
   "cell_type": "code",
   "execution_count": 13,
   "id": "12f72fd7",
   "metadata": {},
   "outputs": [
    {
     "data": {
      "text/html": [
       "<div>\n",
       "<style scoped>\n",
       "    .dataframe tbody tr th:only-of-type {\n",
       "        vertical-align: middle;\n",
       "    }\n",
       "\n",
       "    .dataframe tbody tr th {\n",
       "        vertical-align: top;\n",
       "    }\n",
       "\n",
       "    .dataframe thead th {\n",
       "        text-align: right;\n",
       "    }\n",
       "</style>\n",
       "<table border=\"1\" class=\"dataframe\">\n",
       "  <thead>\n",
       "    <tr style=\"text-align: right;\">\n",
       "      <th></th>\n",
       "      <th>key_label</th>\n",
       "      <th>clean_title</th>\n",
       "      <th>clean_abstract</th>\n",
       "      <th>clean_content</th>\n",
       "      <th>tags</th>\n",
       "    </tr>\n",
       "  </thead>\n",
       "  <tbody>\n",
       "    <tr>\n",
       "      <th>0</th>\n",
       "      <td>0</td>\n",
       "      <td>Market Movers   Solar stocks surge Thursday af...</td>\n",
       "      <td>Solar stocks were surging on Thursday morning ...</td>\n",
       "      <td>div class  ftEditor   p   AM EDT      MT News...</td>\n",
       "      <td>太阳能 电气设备及零件 法国巴黎银行持仓 昨日强势股 光伏太阳能 氢能源 荷兰全球保险持仓 ...</td>\n",
       "    </tr>\n",
       "    <tr>\n",
       "      <th>1</th>\n",
       "      <td>0</td>\n",
       "      <td>COSCO Shipping Parent Lifts Stake in Firm to O...</td>\n",
       "      <td>AM EDT      MT Newswires     COSCO Shipping ...</td>\n",
       "      <td>p   AM EDT      MT Newswires     COSCO Shippi...</td>\n",
       "      <td>航运及港口 航运港口 一带一路 港口运输股 摘帽 转融券标的 国企改革 BDI指数 证金持股...</td>\n",
       "    </tr>\n",
       "    <tr>\n",
       "      <th>2</th>\n",
       "      <td>0</td>\n",
       "      <td>Does COSCO SHIPPING Holdings  HKG   Have A Hea...</td>\n",
       "      <td>The external fund manager backed by Berkshire ...</td>\n",
       "      <td>p The external fund manager backed by Berkshi...</td>\n",
       "      <td>航运及港口 一带一路 港口运输股</td>\n",
       "    </tr>\n",
       "    <tr>\n",
       "      <th>3</th>\n",
       "      <td>0</td>\n",
       "      <td>Does COSCO SHIPPING Holdings  HKG   Have A Hea...</td>\n",
       "      <td>The external fund manager backed by Berkshire ...</td>\n",
       "      <td>The external fund manager backed by Berkshire ...</td>\n",
       "      <td>航运港口 一带一路 摘帽 转融券标的 国企改革 BDI指数 证金持股 上证50 AH股 进口...</td>\n",
       "    </tr>\n",
       "  </tbody>\n",
       "</table>\n",
       "</div>"
      ],
      "text/plain": [
       "   key_label                                        clean_title  \\\n",
       "0          0  Market Movers   Solar stocks surge Thursday af...   \n",
       "1          0  COSCO Shipping Parent Lifts Stake in Firm to O...   \n",
       "2          0  Does COSCO SHIPPING Holdings  HKG   Have A Hea...   \n",
       "3          0  Does COSCO SHIPPING Holdings  HKG   Have A Hea...   \n",
       "\n",
       "                                      clean_abstract  \\\n",
       "0  Solar stocks were surging on Thursday morning ...   \n",
       "1    AM EDT      MT Newswires     COSCO Shipping ...   \n",
       "2  The external fund manager backed by Berkshire ...   \n",
       "3  The external fund manager backed by Berkshire ...   \n",
       "\n",
       "                                       clean_content  \\\n",
       "0   div class  ftEditor   p   AM EDT      MT News...   \n",
       "1   p   AM EDT      MT Newswires     COSCO Shippi...   \n",
       "2   p The external fund manager backed by Berkshi...   \n",
       "3  The external fund manager backed by Berkshire ...   \n",
       "\n",
       "                                                tags  \n",
       "0  太阳能 电气设备及零件 法国巴黎银行持仓 昨日强势股 光伏太阳能 氢能源 荷兰全球保险持仓 ...  \n",
       "1  航运及港口 航运港口 一带一路 港口运输股 摘帽 转融券标的 国企改革 BDI指数 证金持股...  \n",
       "2                                   航运及港口 一带一路 港口运输股  \n",
       "3  航运港口 一带一路 摘帽 转融券标的 国企改革 BDI指数 证金持股 上证50 AH股 进口...  "
      ]
     },
     "execution_count": 13,
     "metadata": {},
     "output_type": "execute_result"
    }
   ],
   "source": [
    "df[['key_label', 'clean_title', 'clean_abstract', 'clean_content', 'tags']].head(4)"
   ]
  },
  {
   "cell_type": "code",
   "execution_count": null,
   "id": "6a14253d",
   "metadata": {},
   "outputs": [],
   "source": []
  },
  {
   "cell_type": "code",
   "execution_count": null,
   "id": "91e418c9",
   "metadata": {},
   "outputs": [],
   "source": []
  },
  {
   "cell_type": "code",
   "execution_count": null,
   "id": "eb8308f7",
   "metadata": {},
   "outputs": [],
   "source": []
  },
  {
   "cell_type": "code",
   "execution_count": null,
   "id": "4928e437",
   "metadata": {},
   "outputs": [],
   "source": []
  },
  {
   "cell_type": "code",
   "execution_count": null,
   "id": "11add278",
   "metadata": {},
   "outputs": [],
   "source": []
  },
  {
   "cell_type": "code",
   "execution_count": null,
   "id": "d685b0e2",
   "metadata": {},
   "outputs": [],
   "source": []
  },
  {
   "cell_type": "code",
   "execution_count": null,
   "id": "3fd37b80",
   "metadata": {},
   "outputs": [],
   "source": [
    "\n"
   ]
  },
  {
   "cell_type": "code",
   "execution_count": null,
   "id": "13bce1b8",
   "metadata": {},
   "outputs": [],
   "source": []
  },
  {
   "cell_type": "code",
   "execution_count": null,
   "id": "97157d58",
   "metadata": {},
   "outputs": [],
   "source": []
  },
  {
   "cell_type": "code",
   "execution_count": null,
   "id": "a923bbbe",
   "metadata": {},
   "outputs": [],
   "source": []
  },
  {
   "cell_type": "code",
   "execution_count": null,
   "id": "a4558754",
   "metadata": {},
   "outputs": [],
   "source": []
  },
  {
   "cell_type": "code",
   "execution_count": null,
   "id": "9e08919c",
   "metadata": {},
   "outputs": [],
   "source": []
  },
  {
   "cell_type": "code",
   "execution_count": null,
   "id": "11f56fc1",
   "metadata": {},
   "outputs": [],
   "source": []
  },
  {
   "cell_type": "code",
   "execution_count": null,
   "id": "9a23380d",
   "metadata": {},
   "outputs": [],
   "source": []
  },
  {
   "cell_type": "code",
   "execution_count": null,
   "id": "d05e68d3",
   "metadata": {},
   "outputs": [],
   "source": []
  },
  {
   "cell_type": "code",
   "execution_count": null,
   "id": "c157ed27",
   "metadata": {},
   "outputs": [],
   "source": []
  },
  {
   "cell_type": "code",
   "execution_count": null,
   "id": "b7c554c7",
   "metadata": {},
   "outputs": [],
   "source": []
  },
  {
   "cell_type": "code",
   "execution_count": null,
   "id": "95ab4166",
   "metadata": {},
   "outputs": [],
   "source": []
  },
  {
   "cell_type": "code",
   "execution_count": null,
   "id": "d43a41af",
   "metadata": {},
   "outputs": [],
   "source": []
  },
  {
   "cell_type": "code",
   "execution_count": null,
   "id": "48639e27",
   "metadata": {},
   "outputs": [],
   "source": []
  },
  {
   "cell_type": "code",
   "execution_count": null,
   "id": "b1e6ca84",
   "metadata": {},
   "outputs": [],
   "source": []
  },
  {
   "cell_type": "code",
   "execution_count": null,
   "id": "e89360c3",
   "metadata": {},
   "outputs": [],
   "source": []
  },
  {
   "cell_type": "code",
   "execution_count": null,
   "id": "f8f5e352",
   "metadata": {},
   "outputs": [],
   "source": []
  },
  {
   "cell_type": "code",
   "execution_count": null,
   "id": "66d6d3df",
   "metadata": {},
   "outputs": [],
   "source": []
  },
  {
   "cell_type": "code",
   "execution_count": null,
   "id": "7e4bb953",
   "metadata": {},
   "outputs": [],
   "source": []
  },
  {
   "cell_type": "code",
   "execution_count": null,
   "id": "b40f7ddf",
   "metadata": {},
   "outputs": [],
   "source": []
  },
  {
   "cell_type": "code",
   "execution_count": null,
   "id": "678dcc0c",
   "metadata": {},
   "outputs": [],
   "source": []
  }
 ],
 "metadata": {
  "kernelspec": {
   "display_name": "conda_pytorch_p38",
   "language": "python",
   "name": "conda_pytorch_p38"
  },
  "language_info": {
   "codemirror_mode": {
    "name": "ipython",
    "version": 3
   },
   "file_extension": ".py",
   "mimetype": "text/x-python",
   "name": "python",
   "nbconvert_exporter": "python",
   "pygments_lexer": "ipython3",
   "version": "3.8.12"
  }
 },
 "nbformat": 4,
 "nbformat_minor": 5
}
